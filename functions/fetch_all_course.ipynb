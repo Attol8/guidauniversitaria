{
 "cells": [
  {
   "cell_type": "code",
   "execution_count": 1,
   "metadata": {},
   "outputs": [],
   "source": [
    "import os\n",
    "import firebase_admin\n",
    "import requests\n",
    "from tqdm import tqdm\n",
    "import time\n",
    "from firebase_admin import credentials, firestore\n",
    "import grpc\n",
    "import json\n",
    "from google.cloud.firestore_v1.services.firestore import FirestoreClient\n",
    "from google.cloud.firestore_v1.services.firestore.transports import FirestoreGrpcTransport"
   ]
  },
  {
   "cell_type": "code",
   "execution_count": 2,
   "metadata": {},
   "outputs": [],
   "source": [
    "# Determine the environment and load the appropriate .env file\n",
    "env = \"development\"\n",
    "if env == \"development\":\n",
    "  cred = credentials.Certificate('dev_firebase_config.json')\n",
    "  firebase_app = firebase_admin.initialize_app(cred)\n",
    "  db = firestore.client(app=firebase_app)\n",
    "\n",
    "  # Create a channel and transport for Firestore client\n",
    "  channel = grpc.insecure_channel(\"localhost:8080\")\n",
    "  transport = FirestoreGrpcTransport(channel=channel)\n",
    "  db._firestore_api_internal = FirestoreClient(transport=transport)\n",
    "\n",
    "else:\n",
    "  firebase_app = firebase_admin.initialize_app()\n",
    "  db = firestore.client(app=firebase_app)"
   ]
  },
  {
   "cell_type": "code",
   "execution_count": 3,
   "metadata": {},
   "outputs": [],
   "source": [
    "# Initialize Firebase Admin using a service account\n",
    "def fetch_all_courses(base_url, initial_page=1, sleep_time=1):\n",
    "    courses = []\n",
    "    page = initial_page\n",
    "\n",
    "    initial_response = requests.get(f\"{base_url}?page={page}\")\n",
    "    if initial_response.status_code != 200:\n",
    "        print(f\"Failed to fetch initial data: HTTP {initial_response.status_code}\")\n",
    "        return courses\n",
    "\n",
    "    # total_pages = initial_response.json()['universita']['totalPages']\n",
    "    total_pages = 5\n",
    "    \n",
    "    for page in tqdm(range(initial_page, total_pages + 1), desc=\"Fetching pages\"):\n",
    "        url = f\"{base_url}?page={page}\"\n",
    "        response = requests.get(url)\n",
    "        if response.status_code != 200:\n",
    "            print(f\"Failed to fetch data on page {page}: HTTP {response.status_code}\")\n",
    "            break\n",
    "\n",
    "        data = response.json()\n",
    "        courses.extend(data['universita']['corsi'])\n",
    "        time.sleep(sleep_time)\n",
    "\n",
    "    return courses\n",
    "\n",
    "def save_to_firestore(courses):\n",
    "    collection_ref = db.collection(u'courses')\n",
    "    for course in courses:\n",
    "        # Use the 'id' field from the course data as the document ID\n",
    "        doc_id = str(course.get('id'))\n",
    "        if doc_id:\n",
    "            doc_ref = collection_ref.document(doc_id)\n",
    "            doc_ref.set(course)\n",
    "        else:\n",
    "            print(\"Course data is missing 'id' field:\", course)\n",
    "    print(\"Data has been written to Firestore.\")"
   ]
  },
  {
   "cell_type": "code",
   "execution_count": 4,
   "metadata": {},
   "outputs": [
    {
     "name": "stderr",
     "output_type": "stream",
     "text": [
      "Fetching pages: 100%|██████████| 5/5 [00:08<00:00,  1.73s/it]\n"
     ]
    }
   ],
   "source": [
    "base_url = \"https://universitaly-backend.cineca.it/api/offerta-formativa/cerca-corsi\"\n",
    "all_courses = fetch_all_courses(base_url)\n",
    "\n",
    "# save data to json\n",
    "with open('functions/test_courses_data.json', 'w') as f:\n",
    "    json.dump(all_courses, f)"
   ]
  },
  {
   "cell_type": "code",
   "execution_count": 5,
   "metadata": {},
   "outputs": [
    {
     "name": "stdout",
     "output_type": "stream",
     "text": [
      "Data has been written to Firestore.\n"
     ]
    }
   ],
   "source": [
    "# Save to Firebase \n",
    "all_courses = json.load(open('functions/test_courses_data.json'))\n",
    "save_to_firestore(all_courses)"
   ]
  }
 ],
 "metadata": {
  "kernelspec": {
   "display_name": "venv",
   "language": "python",
   "name": "python3"
  },
  "language_info": {
   "codemirror_mode": {
    "name": "ipython",
    "version": 3
   },
   "file_extension": ".py",
   "mimetype": "text/x-python",
   "name": "python",
   "nbconvert_exporter": "python",
   "pygments_lexer": "ipython3",
   "version": "3.12.4"
  }
 },
 "nbformat": 4,
 "nbformat_minor": 2
}
